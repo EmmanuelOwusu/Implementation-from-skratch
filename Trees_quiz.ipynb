{
 "cells": [
  {
   "cell_type": "code",
   "execution_count": 3,
   "metadata": {},
   "outputs": [
    {
     "name": "stdout",
     "output_type": "stream",
     "text": [
      "Number of iterations for inserting 2: 1\n",
      "Number of iterations for inserting 1: 2\n",
      "Number of iterations for inserting 3: 1\n",
      "Number of iterations for inserting 5: 1\n",
      "True\n",
      "False\n"
     ]
    }
   ],
   "source": [
    "class Node(object):\n",
    "    def __init__(self, value):\n",
    "        self.value = value\n",
    "        self.left = None\n",
    "        self.right = None\n",
    "\n",
    "class BST(object):\n",
    "    def __init__(self, root):\n",
    "        self.root = Node(root)\n",
    "        \n",
    "    def insert(self, new_val):\n",
    "        start=self.root\n",
    "        iter=0\n",
    "        if start:\n",
    "            while (True):\n",
    "                iter += 1\n",
    "                if start.value>new_val and start.left:\n",
    "                    if start.left.value>new_val:\n",
    "                        start=start.left\n",
    "                    else:\n",
    "                        temp=start.left\n",
    "                        start.left=Node(new_val)\n",
    "                        start.left.left=temp\n",
    "                        break\n",
    "                elif start.value>new_val and not start.left:\n",
    "                    start.left=Node(new_val)\n",
    "                    break\n",
    "                elif start.value<new_val and start.right:\n",
    "                    if start.right.value<new_val:\n",
    "                        start=start.right\n",
    "                    else:\n",
    "                        temp=start.right\n",
    "                        start.right=Node(new_val)\n",
    "                        start.right.right=temp\n",
    "                        break\n",
    "                elif start.value<new_val and not start.right:\n",
    "                    start.right=Node(new_val)\n",
    "                    break\n",
    "            print(\"Number of iterations for inserting {}: {}\".format(new_val, iter))\n",
    "        else:\n",
    "            self.root=Node(new_val)\n",
    "            print(\"Number of iterations:\", 0)\n",
    "\n",
    "    def search(self, find_val):\n",
    "        start=self.root\n",
    "        if start.value==find_val:\n",
    "            return True\n",
    "        else:\n",
    "            while (True):\n",
    "                if start and start.value>find_val:\n",
    "                    start=start.left\n",
    "                elif start and start.value==find_val:\n",
    "                    return True\n",
    "                    break\n",
    "                elif start and start.value<find_val:\n",
    "                    start=start.right\n",
    "                elif not start:\n",
    "                    return False\n",
    "    \n",
    "# Set up tree\n",
    "tree = BST(4)\n",
    "\n",
    "# Insert elements\n",
    "tree.insert(2)\n",
    "tree.insert(1)\n",
    "tree.insert(3)\n",
    "tree.insert(5)\n",
    "\n",
    "# Check search\n",
    "# Should be True\n",
    "print (tree.search(5))\n",
    "# Should be False\n",
    "print (tree.search(6))"
   ]
  },
  {
   "cell_type": "code",
   "execution_count": null,
   "metadata": {},
   "outputs": [],
   "source": []
  }
 ],
 "metadata": {
  "kernelspec": {
   "display_name": "Python 3",
   "language": "python",
   "name": "python3"
  },
  "language_info": {
   "codemirror_mode": {
    "name": "ipython",
    "version": 3
   },
   "file_extension": ".py",
   "mimetype": "text/x-python",
   "name": "python",
   "nbconvert_exporter": "python",
   "pygments_lexer": "ipython3",
   "version": "3.7.4"
  }
 },
 "nbformat": 4,
 "nbformat_minor": 2
}
