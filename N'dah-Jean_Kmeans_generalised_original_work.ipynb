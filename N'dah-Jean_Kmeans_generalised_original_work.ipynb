{
 "cells": [
  {
   "cell_type": "code",
   "execution_count": 1,
   "metadata": {},
   "outputs": [],
   "source": [
    "import random as rd\n",
    "import numpy as np\n",
    "import seaborn as sn\n",
    "import pandas as pd\n",
    "import matplotlib.pyplot as plt"
   ]
  },
  {
   "cell_type": "code",
   "execution_count": 2,
   "metadata": {},
   "outputs": [],
   "source": [
    "mu1 = -1\n",
    "mu2 = 3\n",
    "sig1 = 0.5\n",
    "sig2 = 1\n",
    "N = 100\n",
    "np.random.seed(10)\n",
    "x11=np.random.randn(N,1)*sig1 + mu1\n",
    "x12=np.random.randn(N,1)*sig1 + mu1+3\n",
    "x21=np.random.randn(N,1)*sig2 + mu2\n",
    "x22=np.random.randn(N,1)*sig2 + mu2+3\n",
    "c = np.vstack((-np.ones((N,1)), np.ones((N,1))))\n",
    "x1 = np.hstack((x11,x12))\n",
    "x2 = np.hstack((x21,x22))\n",
    "\n",
    "X = np.hstack( (np.vstack( (x1,x2) ),c) )\n",
    "np.random.shuffle(X)\n",
    "dataset = pd.DataFrame(data=X, columns=['x','y','c'])\n",
    "\n",
    "\n",
    "## Pseudo code used: pseudo code in class \n"
   ]
  },
  {
   "cell_type": "code",
   "execution_count": 3,
   "metadata": {},
   "outputs": [
    {
     "data": {
      "text/html": [
       "<div>\n",
       "<style scoped>\n",
       "    .dataframe tbody tr th:only-of-type {\n",
       "        vertical-align: middle;\n",
       "    }\n",
       "\n",
       "    .dataframe tbody tr th {\n",
       "        vertical-align: top;\n",
       "    }\n",
       "\n",
       "    .dataframe thead th {\n",
       "        text-align: right;\n",
       "    }\n",
       "</style>\n",
       "<table border=\"1\" class=\"dataframe\">\n",
       "  <thead>\n",
       "    <tr style=\"text-align: right;\">\n",
       "      <th></th>\n",
       "      <th>x</th>\n",
       "      <th>y</th>\n",
       "      <th>c</th>\n",
       "    </tr>\n",
       "  </thead>\n",
       "  <tbody>\n",
       "    <tr>\n",
       "      <td>0</td>\n",
       "      <td>-0.334207</td>\n",
       "      <td>2.058738</td>\n",
       "      <td>-1.0</td>\n",
       "    </tr>\n",
       "    <tr>\n",
       "      <td>1</td>\n",
       "      <td>3.264395</td>\n",
       "      <td>5.636814</td>\n",
       "      <td>1.0</td>\n",
       "    </tr>\n",
       "    <tr>\n",
       "      <td>2</td>\n",
       "      <td>-0.669884</td>\n",
       "      <td>1.856185</td>\n",
       "      <td>-1.0</td>\n",
       "    </tr>\n",
       "    <tr>\n",
       "      <td>3</td>\n",
       "      <td>1.995284</td>\n",
       "      <td>4.484924</td>\n",
       "      <td>1.0</td>\n",
       "    </tr>\n",
       "    <tr>\n",
       "      <td>4</td>\n",
       "      <td>3.588041</td>\n",
       "      <td>4.739172</td>\n",
       "      <td>1.0</td>\n",
       "    </tr>\n",
       "  </tbody>\n",
       "</table>\n",
       "</div>"
      ],
      "text/plain": [
       "          x         y    c\n",
       "0 -0.334207  2.058738 -1.0\n",
       "1  3.264395  5.636814  1.0\n",
       "2 -0.669884  1.856185 -1.0\n",
       "3  1.995284  4.484924  1.0\n",
       "4  3.588041  4.739172  1.0"
      ]
     },
     "execution_count": 3,
     "metadata": {},
     "output_type": "execute_result"
    }
   ],
   "source": [
    "dataset.head()"
   ]
  },
  {
   "cell_type": "code",
   "execution_count": 4,
   "metadata": {},
   "outputs": [
    {
     "data": {
      "text/plain": [
       "<matplotlib.axes._subplots.AxesSubplot at 0x7f06eedd9210>"
      ]
     },
     "execution_count": 4,
     "metadata": {},
     "output_type": "execute_result"
    },
    {
     "data": {
      "image/png": "[encoded data removed]",
      "text/plain": [
       "<Figure size 432x288 with 1 Axes>"
      ]
     },
     "metadata": {
      "needs_background": "light"
     },
     "output_type": "display_data"
    }
   ],
   "source": [
    "#plt.figure(figsize=(10,10))\n",
    "sn.scatterplot(dataset['x'],dataset['y'])\n"
   ]
  },
  {
   "cell_type": "code",
   "execution_count": 5,
   "metadata": {},
   "outputs": [],
   "source": [
    "Data_xy=dataset.drop('c', axis=1)"
   ]
  },
  {
   "cell_type": "code",
   "execution_count": 6,
   "metadata": {},
   "outputs": [],
   "source": [
    "Norm=np.linalg.norm"
   ]
  },
  {
   "cell_type": "code",
   "execution_count": 7,
   "metadata": {},
   "outputs": [],
   "source": [
    "def Kmeans(data,k):\n",
    "    #Classes=[[] for i in range(k)] # Initializing two empty calsses. Note that we create k classes in general. \n",
    "    indexes=np.random.choice(data.shape[0],k, replace=False) # Choosing random indexes to initilize the centers.\n",
    "    Centers=np.array([[data.iloc[:,j][indexes[i]] for j in range(data.shape[1])] for i in range(k)])# Initializing the centers.\n",
    "    Points_check_convergence=np.array([[np.random.random() for j in range(data.shape[1])] for i in range(k)]) # Creating points which allow us to enter in the while \n",
    "    #loop and are used to check wether there is convergence or not. This will work because the probability that those\n",
    "    #points are exactly the ones in the initialization is very little.\n",
    "\n",
    "    # Now we start our while-no-convergence loop\n",
    "    Max_iter, num_iter=200,0 # Maximal number of iterations in the while-loop\n",
    "    while((Points_check_convergence != Centers).any() or num_iter<Max_iter):\n",
    "        Classes=[[] for i in range(k)]\n",
    "        Points_check_convergence=Centers # Checking points updated\n",
    "        for i in range(data.shape[0]): # Here we go through all the points of the data set and compute their distance to the centers\n",
    "            P=np.array([data.iloc[i,j] for j in range(data.shape[1])]) \n",
    "            distances=[]\n",
    "            for l in range(k):\n",
    "                distances.append(Norm(P-Centers[l]))\n",
    "            Classes[distances.index(min(distances))].append(P) # Adding the point to the \"closest\"  class\n",
    "        for s in range(k):\n",
    "            Centers[s]=(1.0/len(Classes[s]))*sum(Classes[s])\n",
    "        num_iter += 1\n",
    "    return Classes # Returning the clusters\n"
   ]
  },
  {
   "cell_type": "code",
   "execution_count": 9,
   "metadata": {},
   "outputs": [
    {
     "data": {
      "image/png": "[encoded data removed]",
      "text/plain": [
       "<Figure size 432x288 with 1 Axes>"
      ]
     },
     "metadata": {
      "needs_background": "light"
     },
     "output_type": "display_data"
    }
   ],
   "source": [
    "K=5\n",
    "Kmeans(Data_xy,k=K)\n",
    "Classes = Kmeans(Data_xy,k=K)\n",
    "for i in range(K):\n",
    "    sn.scatterplot(np.array(Classes[i])[:,0], np.array(Classes[i])[:,1], marker='o',s=100)"
   ]
  },
  {
   "cell_type": "code",
   "execution_count": 13,
   "metadata": {},
   "outputs": [
    {
     "data": {
      "text/plain": [
       "[[array([-0.43560742,  2.23044423]),\n",
       "  array([-0.50546377,  2.28217626]),\n",
       "  array([-0.44614588,  2.17673881]),\n",
       "  array([-0.54127053,  2.27333242])],\n",
       " [array([0.98228135, 7.15668893]), array([1.46693128, 7.15805157])],\n",
       " [array([3.31511117, 6.20983914]),\n",
       "  array([3.43836524, 6.02580759]),\n",
       "  array([3.27960539, 6.04477469]),\n",
       "  array([3.30866767, 5.966073  ])],\n",
       " [array([1.99528365, 4.48492432]),\n",
       "  array([1.41344824, 4.34139529]),\n",
       "  array([1.85118774, 3.82339137])],\n",
       " [array([2.83592471, 6.65366231]),\n",
       "  array([2.96361746, 6.53422496]),\n",
       "  array([3.21045073, 6.4772343 ]),\n",
       "  array([3.18833121, 6.28781043]),\n",
       "  array([3.18264738, 6.41253272])],\n",
       " [array([1.30159851, 6.14024687]),\n",
       "  array([1.05870032, 6.34947641]),\n",
       "  array([1.39114964, 6.66414561]),\n",
       "  array([0.60442799, 5.91608476]),\n",
       "  array([1.45269461, 6.0643194 ])],\n",
       " [array([-0.87772801,  1.89636026]),\n",
       "  array([-0.84262311,  1.64360028]),\n",
       "  array([-0.84391503,  1.80563603]),\n",
       "  array([-0.89136743,  1.79713524]),\n",
       "  array([-0.86724421,  1.85200807]),\n",
       "  array([-0.88568493,  1.84358562]),\n",
       "  array([-0.93364585,  1.6800187 ]),\n",
       "  array([-0.90249336,  1.88910343]),\n",
       "  array([-1.06095285,  1.74254504])],\n",
       " [array([3.58804059, 4.73917219])],\n",
       " [array([3.35693907, 6.80426736]),\n",
       "  array([3.22781736, 6.75662186]),\n",
       "  array([3.32338993, 6.83708178]),\n",
       "  array([3.44902173, 7.00828297]),\n",
       "  array([3.19293598, 6.8843676 ]),\n",
       "  array([3.4361853 , 7.07973068]),\n",
       "  array([3.10581208, 6.81522068]),\n",
       "  array([3.1331375 , 6.75529996])],\n",
       " [array([-1.02441526,  2.12230726]),\n",
       "  array([-0.93243156,  2.07055208]),\n",
       "  array([-0.8982096 ,  2.02864258]),\n",
       "  array([-1.00419192,  2.23487572])],\n",
       " [array([4.90230404, 6.18941984])],\n",
       " [array([2.74246638, 5.42388314]),\n",
       "  array([2.62723858, 5.44395266]),\n",
       "  array([2.63572191, 5.88411927])],\n",
       " [array([4.34217928, 4.89647787]), array([4.21718156, 5.01627188])],\n",
       " [array([-1.25086445,  1.97173964]),\n",
       "  array([-1.24466861,  1.75960633]),\n",
       "  array([-1.56830111,  1.78048688]),\n",
       "  array([-1.37694648,  1.93846509]),\n",
       "  array([-1.36004278,  1.79993082]),\n",
       "  array([-1.46971668,  1.97597934]),\n",
       "  array([-1.39900441,  1.852787  ]),\n",
       "  array([-1.13365859,  1.88502668])],\n",
       " [array([3.85482876, 6.37212255]),\n",
       "  array([3.98007413, 6.37530555]),\n",
       "  array([3.54054071, 6.60928227]),\n",
       "  array([3.6202545 , 6.79468527]),\n",
       "  array([4.08522707, 6.50427148]),\n",
       "  array([3.5039269 , 6.41160241])],\n",
       " [array([-1.11609113,  2.60907443]),\n",
       "  array([-1.07371013,  2.56748659]),\n",
       "  array([-1.24104657,  2.47356304]),\n",
       "  array([-1.10789495,  2.55006469])],\n",
       " [array([-0.64591999,  2.24675766]),\n",
       "  array([-0.69339791,  2.3339448 ]),\n",
       "  array([-0.76954855,  2.30614866]),\n",
       "  array([-0.68969967,  2.30159953])],\n",
       " [array([-1.26993954,  2.67227471]),\n",
       "  array([-1.10634882,  2.80720399]),\n",
       "  array([-1.13562399,  2.82835831]),\n",
       "  array([-1.03292392,  3.11252482]),\n",
       "  array([-1.36598475,  2.7235828 ])],\n",
       " [array([3.88577486, 5.37638099]), array([3.59145309, 5.46128147])],\n",
       " [array([3.82951248, 5.8287072 ]),\n",
       "  array([3.89256403, 5.83359931]),\n",
       "  array([3.60202227, 5.74471955])],\n",
       " [array([2.85493546, 4.64230244]),\n",
       "  array([3.1489607 , 4.79634651]),\n",
       "  array([2.86742641, 4.36441338]),\n",
       "  array([3.00402491, 4.61317747]),\n",
       "  array([3.06880147, 4.30803207]),\n",
       "  array([3.20732957, 4.96939179])],\n",
       " [array([2.32797656, 6.95771124]),\n",
       "  array([2.31378439, 7.26969128]),\n",
       "  array([2.1372417 , 7.17373241]),\n",
       "  array([2.43649433, 7.1011362 ])],\n",
       " [array([1.73018041, 5.38569515]),\n",
       "  array([1.86952471, 5.52859992]),\n",
       "  array([1.97524703, 5.7600437 ]),\n",
       "  array([1.93143229, 5.50685926]),\n",
       "  array([1.55770112, 5.67679877]),\n",
       "  array([2.04646758, 5.76491777])],\n",
       " [array([3.09576324, 7.21478265]),\n",
       "  array([3.54794393, 7.39733798]),\n",
       "  array([3.40246909, 7.81778261])],\n",
       " [array([0.19248367, 3.23266254]), array([-0.37176387,  2.99269287])],\n",
       " [array([-0.66988422,  1.85618529]),\n",
       "  array([-0.80332939,  1.91135059]),\n",
       "  array([-0.57888763,  1.88149791]),\n",
       "  array([-0.68933201,  1.92781662]),\n",
       "  array([-0.64402049,  1.80450891]),\n",
       "  array([-0.77743119,  1.82555904])],\n",
       " [array([-1.98886414,  1.71344332]),\n",
       "  array([-1.70927801,  1.60430461]),\n",
       "  array([-1.77270015,  1.53854537]),\n",
       "  array([-1.87168615,  1.33977623]),\n",
       "  array([-1.97725606,  1.71401159])],\n",
       " [array([2.71399799, 6.07328301]),\n",
       "  array([3.02822737, 6.23933927]),\n",
       "  array([2.70975419, 6.24479809]),\n",
       "  array([3.0110227 , 6.26957242])],\n",
       " [array([-1.01295267,  2.25535721]),\n",
       "  array([-0.99785428,  2.35341523]),\n",
       "  array([-1.05613624,  2.4712502 ]),\n",
       "  array([-1.11138685,  2.3719872 ]),\n",
       "  array([-0.94572574,  2.4241043 ])],\n",
       " [array([2.25817516, 7.86295167]),\n",
       "  array([2.21765681, 8.20096644]),\n",
       "  array([2.59852718, 8.67991031])],\n",
       " [array([-0.64236051,  1.04627156]),\n",
       "  array([-0.84032179,  1.1444644 ]),\n",
       "  array([-1.04056109,  0.85244834]),\n",
       "  array([-1.18109022,  0.51020161])],\n",
       " [array([-0.58650069,  2.58358418]),\n",
       "  array([-0.54086542,  2.62758687]),\n",
       "  array([-0.43815437,  2.69161611])],\n",
       " [array([-1.52256627,  2.50343057]),\n",
       "  array([-1.92809274,  2.2669424 ]),\n",
       "  array([-1.99719688,  2.3908876 ]),\n",
       "  array([-2.06585605,  2.05859071]),\n",
       "  array([-1.75416074,  2.27421403])],\n",
       " [array([-0.8554529 ,  2.20714882]),\n",
       "  array([-0.78348691,  2.14647036]),\n",
       "  array([-0.71742367,  2.16617497])],\n",
       " [array([-0.33420675,  2.05873783]),\n",
       "  array([-0.16368889,  2.17311656]),\n",
       "  array([-0.30100181,  2.08340513]),\n",
       "  array([-0.2577315 ,  2.13652466])],\n",
       " [array([0.23382553, 1.86957026]),\n",
       "  array([-0.12759293,  1.66052661]),\n",
       "  array([0.19735183, 1.64646428])],\n",
       " [array([2.27737927, 4.73841026]),\n",
       "  array([2.42508234, 5.10881308]),\n",
       "  array([2.02980218, 5.03029433]),\n",
       "  array([2.63982887, 5.21731225])],\n",
       " [array([4.10557514, 4.0163635 ])],\n",
       " [array([-1.18124959,  2.13708639]),\n",
       "  array([-1.40229557,  2.18887654]),\n",
       "  array([-1.23807101,  2.15691526]),\n",
       "  array([-1.34890502,  2.33118701]),\n",
       "  array([-1.16881617,  2.01465486])],\n",
       " [array([2.15298375, 6.00410204]),\n",
       "  array([2.14247748, 6.22612635]),\n",
       "  array([2.1644915 , 6.61894892]),\n",
       "  array([2.1776324 , 6.48500263]),\n",
       "  array([2.41554484, 6.19727222]),\n",
       "  array([1.99343144, 6.39672599])],\n",
       " [array([-0.0074577 ,  1.28955974])],\n",
       " [array([-1.48253284,  3.2021628 ])],\n",
       " [array([-0.39848131,  1.76459637]),\n",
       "  array([-0.48586296,  1.63032163]),\n",
       "  array([-0.34576346,  1.38708201]),\n",
       "  array([-0.47690857,  1.83344942])],\n",
       " [array([4.01398463, 6.02609653]),\n",
       "  array([4.1637237 , 5.75425461]),\n",
       "  array([4.34480651, 5.83359463]),\n",
       "  array([4.1943506, 5.9464055])],\n",
       " [array([5.31912732, 6.75947133]),\n",
       "  array([4.67407555, 7.18831675]),\n",
       "  array([4.4120643 , 6.61645092]),\n",
       "  array([4.20274387, 6.87948569])],\n",
       " [array([3.68790473, 5.11653901]), array([3.50318918, 5.05929023])],\n",
       " [array([3.26439469, 5.6368138 ]),\n",
       "  array([2.96208212, 5.53715911]),\n",
       "  array([3.08413956, 5.78073974]),\n",
       "  array([3.24917866, 5.27060078]),\n",
       "  array([3.16039916, 5.30494335]),\n",
       "  array([3.16390425, 5.73349813])],\n",
       " [array([-0.86696492,  2.61810266]),\n",
       "  array([-0.95042539,  2.51125805]),\n",
       "  array([-0.79989501,  2.66996315])],\n",
       " [array([3.98659782, 7.61145729]), array([3.73050745, 7.48821839])],\n",
       " [array([-1.03095601,  1.46015131]),\n",
       "  array([-1.16957012,  1.43844798]),\n",
       "  array([-1.08730011,  1.60636554]),\n",
       "  array([-1.27465451,  1.4352244 ]),\n",
       "  array([-1.26464804,  1.40203534]),\n",
       "  array([-0.95520619,  1.48884465]),\n",
       "  array([-1.53990244,  1.19071463]),\n",
       "  array([-1.17543595,  1.32034471])]]"
      ]
     },
     "execution_count": 13,
     "metadata": {},
     "output_type": "execute_result"
    }
   ],
   "source": [
    "Kmeans(Data_xy,k=K)"
   ]
  },
  {
   "cell_type": "code",
   "execution_count": null,
   "metadata": {},
   "outputs": [],
   "source": []
  }
 ],
 "metadata": {
  "kernelspec": {
   "display_name": "Python 3",
   "language": "python",
   "name": "python3"
  },
  "language_info": {
   "codemirror_mode": {
    "name": "ipython",
    "version": 3
   },
   "file_extension": ".py",
   "mimetype": "text/x-python",
   "name": "python",
   "nbconvert_exporter": "python",
   "pygments_lexer": "ipython3",
   "version": "3.7.4"
  }
 },
 "nbformat": 4,
 "nbformat_minor": 2
}
